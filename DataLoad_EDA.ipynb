{
 "cells": [
  {
   "cell_type": "markdown",
   "id": "ccc157e7-17c0-45f4-9c5f-cb4f47b250ba",
   "metadata": {},
   "source": [
    "# Exploratory Data Analysis (EDA) for the Exasens Project"
   ]
  },
  {
   "cell_type": "markdown",
   "id": "b687b74a-a7f8-4a9a-bd13-ddef3240cc27",
   "metadata": {},
   "source": [
    "## Step 1: Load the File in Python\n",
    "First, we load the data file `Exasens_Kaggle.csv` into a `pandas` DataFrame to start working with it."
   ]
  },
  {
   "cell_type": "code",
   "execution_count": 41,
   "id": "09848c53-b49d-4c77-91d9-17cead4f58c0",
   "metadata": {},
   "outputs": [],
   "source": [
    "import pandas as pd\n",
    "\n",
    "# Cargar el archivo CSV\n",
    "file_path = '/Users/pepedesintas/EDA_ExasensDataset/Exasens_Kaggle.csv'\n",
    "\n",
    "exasens_data = pd.read_csv(file_path)"
   ]
  },
  {
   "cell_type": "markdown",
   "id": "87ca9856-cec9-4484-8f67-ddebc29840b0",
   "metadata": {},
   "source": [
    "## Step 2: Initial Data Exploration\n",
    "\n",
    "### 2.1 Review the First Rows and Basic Structure of the Dataset\n",
    "We examine the first rows, general information, and descriptive statistics to better understand the structure of the data."
   ]
  },
  {
   "cell_type": "code",
   "execution_count": 44,
   "id": "8ac510a0-0db3-44fd-98ca-c56f80538ec1",
   "metadata": {},
   "outputs": [
    {
     "name": "stdout",
     "output_type": "stream",
     "text": [
      "--> First Rows of the Dataset:\n"
     ]
    },
    {
     "data": {
      "text/html": [
       "<div>\n",
       "<style scoped>\n",
       "    .dataframe tbody tr th:only-of-type {\n",
       "        vertical-align: middle;\n",
       "    }\n",
       "\n",
       "    .dataframe tbody tr th {\n",
       "        vertical-align: top;\n",
       "    }\n",
       "\n",
       "    .dataframe thead th {\n",
       "        text-align: right;\n",
       "    }\n",
       "</style>\n",
       "<table border=\"1\" class=\"dataframe\">\n",
       "  <thead>\n",
       "    <tr style=\"text-align: right;\">\n",
       "      <th></th>\n",
       "      <th>Diagnosis</th>\n",
       "      <th>ID</th>\n",
       "      <th>Imagery_part_min</th>\n",
       "      <th>Imagery_part_avg</th>\n",
       "      <th>Real_part_min</th>\n",
       "      <th>Real_part_avg</th>\n",
       "      <th>Gender</th>\n",
       "      <th>Age</th>\n",
       "      <th>Smoking</th>\n",
       "    </tr>\n",
       "  </thead>\n",
       "  <tbody>\n",
       "    <tr>\n",
       "      <th>0</th>\n",
       "      <td>COPD</td>\n",
       "      <td>301-4</td>\n",
       "      <td>-320.61</td>\n",
       "      <td>-300.563531</td>\n",
       "      <td>-495.26</td>\n",
       "      <td>-464.171991</td>\n",
       "      <td>1</td>\n",
       "      <td>77</td>\n",
       "      <td>2</td>\n",
       "    </tr>\n",
       "    <tr>\n",
       "      <th>1</th>\n",
       "      <td>COPD</td>\n",
       "      <td>302-3</td>\n",
       "      <td>-325.39</td>\n",
       "      <td>-314.750360</td>\n",
       "      <td>-473.73</td>\n",
       "      <td>-469.263140</td>\n",
       "      <td>0</td>\n",
       "      <td>72</td>\n",
       "      <td>2</td>\n",
       "    </tr>\n",
       "    <tr>\n",
       "      <th>2</th>\n",
       "      <td>COPD</td>\n",
       "      <td>303-3</td>\n",
       "      <td>-323.00</td>\n",
       "      <td>-317.436056</td>\n",
       "      <td>-476.12</td>\n",
       "      <td>-471.897667</td>\n",
       "      <td>1</td>\n",
       "      <td>73</td>\n",
       "      <td>3</td>\n",
       "    </tr>\n",
       "    <tr>\n",
       "      <th>3</th>\n",
       "      <td>COPD</td>\n",
       "      <td>304-4</td>\n",
       "      <td>-327.78</td>\n",
       "      <td>-317.399670</td>\n",
       "      <td>-473.73</td>\n",
       "      <td>-468.856388</td>\n",
       "      <td>1</td>\n",
       "      <td>76</td>\n",
       "      <td>2</td>\n",
       "    </tr>\n",
       "    <tr>\n",
       "      <th>4</th>\n",
       "      <td>COPD</td>\n",
       "      <td>305-4</td>\n",
       "      <td>-325.39</td>\n",
       "      <td>-316.155785</td>\n",
       "      <td>-478.52</td>\n",
       "      <td>-472.869783</td>\n",
       "      <td>0</td>\n",
       "      <td>65</td>\n",
       "      <td>2</td>\n",
       "    </tr>\n",
       "  </tbody>\n",
       "</table>\n",
       "</div>"
      ],
      "text/plain": [
       "  Diagnosis     ID  Imagery_part_min  Imagery_part_avg  Real_part_min  \\\n",
       "0      COPD  301-4           -320.61       -300.563531        -495.26   \n",
       "1      COPD  302-3           -325.39       -314.750360        -473.73   \n",
       "2      COPD  303-3           -323.00       -317.436056        -476.12   \n",
       "3      COPD  304-4           -327.78       -317.399670        -473.73   \n",
       "4      COPD  305-4           -325.39       -316.155785        -478.52   \n",
       "\n",
       "   Real_part_avg  Gender  Age  Smoking  \n",
       "0    -464.171991       1   77        2  \n",
       "1    -469.263140       0   72        2  \n",
       "2    -471.897667       1   73        3  \n",
       "3    -468.856388       1   76        2  \n",
       "4    -472.869783       0   65        2  "
      ]
     },
     "metadata": {},
     "output_type": "display_data"
    },
    {
     "name": "stdout",
     "output_type": "stream",
     "text": [
      "\n",
      "==================================================\n",
      "\n",
      "--> Dataset Information:\n",
      "<class 'pandas.core.frame.DataFrame'>\n",
      "RangeIndex: 399 entries, 0 to 398\n",
      "Data columns (total 9 columns):\n",
      " #   Column            Non-Null Count  Dtype  \n",
      "---  ------            --------------  -----  \n",
      " 0   Diagnosis         399 non-null    object \n",
      " 1   ID                399 non-null    object \n",
      " 2   Imagery_part_min  100 non-null    float64\n",
      " 3   Imagery_part_avg  100 non-null    float64\n",
      " 4   Real_part_min     100 non-null    float64\n",
      " 5   Real_part_avg     100 non-null    float64\n",
      " 6   Gender            399 non-null    int64  \n",
      " 7   Age               399 non-null    int64  \n",
      " 8   Smoking           399 non-null    int64  \n",
      "dtypes: float64(4), int64(3), object(2)\n",
      "memory usage: 28.2+ KB\n",
      "\n",
      "==================================================\n",
      "\n",
      "--> Descriptive Statistics:\n"
     ]
    },
    {
     "data": {
      "text/html": [
       "<div>\n",
       "<style scoped>\n",
       "    .dataframe tbody tr th:only-of-type {\n",
       "        vertical-align: middle;\n",
       "    }\n",
       "\n",
       "    .dataframe tbody tr th {\n",
       "        vertical-align: top;\n",
       "    }\n",
       "\n",
       "    .dataframe thead th {\n",
       "        text-align: right;\n",
       "    }\n",
       "</style>\n",
       "<table border=\"1\" class=\"dataframe\">\n",
       "  <thead>\n",
       "    <tr style=\"text-align: right;\">\n",
       "      <th></th>\n",
       "      <th>Imagery_part_min</th>\n",
       "      <th>Imagery_part_avg</th>\n",
       "      <th>Real_part_min</th>\n",
       "      <th>Real_part_avg</th>\n",
       "      <th>Gender</th>\n",
       "      <th>Age</th>\n",
       "      <th>Smoking</th>\n",
       "    </tr>\n",
       "  </thead>\n",
       "  <tbody>\n",
       "    <tr>\n",
       "      <th>count</th>\n",
       "      <td>100.000000</td>\n",
       "      <td>100.000000</td>\n",
       "      <td>100.000000</td>\n",
       "      <td>100.000000</td>\n",
       "      <td>399.000000</td>\n",
       "      <td>399.000000</td>\n",
       "      <td>399.000000</td>\n",
       "    </tr>\n",
       "    <tr>\n",
       "      <th>mean</th>\n",
       "      <td>-314.941800</td>\n",
       "      <td>-304.779677</td>\n",
       "      <td>-473.002200</td>\n",
       "      <td>-458.701666</td>\n",
       "      <td>0.398496</td>\n",
       "      <td>48.736842</td>\n",
       "      <td>1.726817</td>\n",
       "    </tr>\n",
       "    <tr>\n",
       "      <th>std</th>\n",
       "      <td>28.422753</td>\n",
       "      <td>25.834316</td>\n",
       "      <td>49.009819</td>\n",
       "      <td>43.725345</td>\n",
       "      <td>0.490203</td>\n",
       "      <td>18.566962</td>\n",
       "      <td>0.742167</td>\n",
       "    </tr>\n",
       "    <tr>\n",
       "      <th>min</th>\n",
       "      <td>-337.350000</td>\n",
       "      <td>-328.280985</td>\n",
       "      <td>-626.860000</td>\n",
       "      <td>-473.928698</td>\n",
       "      <td>0.000000</td>\n",
       "      <td>17.000000</td>\n",
       "      <td>1.000000</td>\n",
       "    </tr>\n",
       "    <tr>\n",
       "      <th>25%</th>\n",
       "      <td>-327.780000</td>\n",
       "      <td>-318.476799</td>\n",
       "      <td>-476.120000</td>\n",
       "      <td>-470.036232</td>\n",
       "      <td>0.000000</td>\n",
       "      <td>31.000000</td>\n",
       "      <td>1.000000</td>\n",
       "    </tr>\n",
       "    <tr>\n",
       "      <th>50%</th>\n",
       "      <td>-323.000000</td>\n",
       "      <td>-314.327176</td>\n",
       "      <td>-473.730000</td>\n",
       "      <td>-467.136002</td>\n",
       "      <td>0.000000</td>\n",
       "      <td>49.000000</td>\n",
       "      <td>2.000000</td>\n",
       "    </tr>\n",
       "    <tr>\n",
       "      <th>75%</th>\n",
       "      <td>-320.610000</td>\n",
       "      <td>-305.072319</td>\n",
       "      <td>-468.950000</td>\n",
       "      <td>-462.804774</td>\n",
       "      <td>1.000000</td>\n",
       "      <td>64.000000</td>\n",
       "      <td>2.000000</td>\n",
       "    </tr>\n",
       "    <tr>\n",
       "      <th>max</th>\n",
       "      <td>-225.000000</td>\n",
       "      <td>-225.000000</td>\n",
       "      <td>-44.000000</td>\n",
       "      <td>-44.000000</td>\n",
       "      <td>1.000000</td>\n",
       "      <td>93.000000</td>\n",
       "      <td>3.000000</td>\n",
       "    </tr>\n",
       "  </tbody>\n",
       "</table>\n",
       "</div>"
      ],
      "text/plain": [
       "       Imagery_part_min  Imagery_part_avg  Real_part_min  Real_part_avg  \\\n",
       "count        100.000000        100.000000     100.000000     100.000000   \n",
       "mean        -314.941800       -304.779677    -473.002200    -458.701666   \n",
       "std           28.422753         25.834316      49.009819      43.725345   \n",
       "min         -337.350000       -328.280985    -626.860000    -473.928698   \n",
       "25%         -327.780000       -318.476799    -476.120000    -470.036232   \n",
       "50%         -323.000000       -314.327176    -473.730000    -467.136002   \n",
       "75%         -320.610000       -305.072319    -468.950000    -462.804774   \n",
       "max         -225.000000       -225.000000     -44.000000     -44.000000   \n",
       "\n",
       "           Gender         Age     Smoking  \n",
       "count  399.000000  399.000000  399.000000  \n",
       "mean     0.398496   48.736842    1.726817  \n",
       "std      0.490203   18.566962    0.742167  \n",
       "min      0.000000   17.000000    1.000000  \n",
       "25%      0.000000   31.000000    1.000000  \n",
       "50%      0.000000   49.000000    2.000000  \n",
       "75%      1.000000   64.000000    2.000000  \n",
       "max      1.000000   93.000000    3.000000  "
      ]
     },
     "metadata": {},
     "output_type": "display_data"
    }
   ],
   "source": [
    "# Display the first rows of the dataset\n",
    "print(\"--> First Rows of the Dataset:\")\n",
    "display(exasens_data.head())\n",
    "\n",
    "print(\"\\n\" + \"=\"*50 + \"\\n\")\n",
    "\n",
    "# Show general information about the dataset\n",
    "print(\"--> Dataset Information:\")\n",
    "exasens_data.info()\n",
    "\n",
    "print(\"\\n\" + \"=\"*50 + \"\\n\")\n",
    "\n",
    "# Display descriptive statistics for numerical columns\n",
    "print(\"--> Descriptive Statistics:\")\n",
    "display(exasens_data.describe())\n"
   ]
  },
  {
   "cell_type": "markdown",
   "id": "45568b67-1345-480e-94a4-9478b6a39153",
   "metadata": {},
   "source": [
    "### 2.2 Check for Missing Values and Duplicates\n",
    "We identify if there are any missing values or duplicate rows in the dataset."
   ]
  },
  {
   "cell_type": "code",
   "execution_count": 47,
   "id": "c2068497-242b-4546-884b-590d5134a21d",
   "metadata": {},
   "outputs": [
    {
     "name": "stdout",
     "output_type": "stream",
     "text": [
      "--> Missing Values in Each Column:\n",
      "Imagery_part_min    299\n",
      "Imagery_part_avg    299\n",
      "Real_part_min       299\n",
      "Real_part_avg       299\n",
      "dtype: int64\n",
      "\n",
      "==================================================\n",
      "\n",
      "--> Number of Duplicate Rows:\n",
      "Total Duplicate Rows: 0\n",
      "\n",
      "==================================================\n",
      "\n"
     ]
    }
   ],
   "source": [
    "# Step 2.2: Check for Missing Values and Duplicates\n",
    "\n",
    "# Check for missing values\n",
    "print(\"--> Missing Values in Each Column:\")\n",
    "missing_values = exasens_data.isnull().sum()\n",
    "print(missing_values[missing_values > 0])  # Only displays columns with missing values\n",
    "\n",
    "print(\"\\n\" + \"=\"*50 + \"\\n\")\n",
    "\n",
    "# Check for duplicate rows\n",
    "print(\"--> Number of Duplicate Rows:\")\n",
    "duplicates = exasens_data.duplicated().sum()\n",
    "print(f\"Total Duplicate Rows: {duplicates}\")\n",
    "\n",
    "print(\"\\n\" + \"=\"*50 + \"\\n\")"
   ]
  },
  {
   "cell_type": "markdown",
   "id": "bb8cc27a-935c-492d-98bc-4aad6d09b4be",
   "metadata": {},
   "source": [
    "### 2.3 Examine Distributions of Numerical and Categorical Variables\n",
    "We visualize the distribution of key variables to get an initial understanding of the data, especially for variables such as `Age` and `Diagnosis`."
   ]
  },
  {
   "cell_type": "code",
   "execution_count": 62,
   "id": "e25bf8e5-3e1d-490c-9614-142c5da8df1f",
   "metadata": {},
   "outputs": [
    {
     "name": "stdout",
     "output_type": "stream",
     "text": [
      "### Age Distribution ###\n"
     ]
    },
    {
     "data": {
      "image/png": "[encoded data removed]",
      "text/plain": [
       "<Figure size 1000x600 with 1 Axes>"
      ]
     },
     "metadata": {},
     "output_type": "display_data"
    },
    {
     "name": "stdout",
     "output_type": "stream",
     "text": [
      "\n",
      "==================================================\n",
      "\n",
      "### Diagnosis Distribution ###\n"
     ]
    },
    {
     "name": "stderr",
     "output_type": "stream",
     "text": [
      "/var/folders/_6/y65qx_ln445314xzkc_slzmc0000gn/T/ipykernel_44398/2171195810.py:23: FutureWarning: \n",
      "\n",
      "Passing `palette` without assigning `hue` is deprecated and will be removed in v0.14.0. Assign the `x` variable to `hue` and set `legend=False` for the same effect.\n",
      "\n",
      "  sns.countplot(data=exasens_data, x='Diagnosis', palette=\"viridis\")\n"
     ]
    },
    {
     "data": {
      "image/png": "[encoded data removed]",
      "text/plain": [
       "<Figure size 800x500 with 1 Axes>"
      ]
     },
     "metadata": {},
     "output_type": "display_data"
    },
    {
     "name": "stdout",
     "output_type": "stream",
     "text": [
      "\n",
      "==================================================\n",
      "\n",
      "### Gender Distribution ###\n"
     ]
    },
    {
     "name": "stderr",
     "output_type": "stream",
     "text": [
      "/var/folders/_6/y65qx_ln445314xzkc_slzmc0000gn/T/ipykernel_44398/2171195810.py:34: FutureWarning: \n",
      "\n",
      "Passing `palette` without assigning `hue` is deprecated and will be removed in v0.14.0. Assign the `x` variable to `hue` and set `legend=False` for the same effect.\n",
      "\n",
      "  sns.countplot(data=exasens_data, x='Gender', palette=\"pastel\")\n"
     ]
    },
    {
     "data": {
      "image/png": "[encoded data removed]",
      "text/plain": [
       "<Figure size 600x400 with 1 Axes>"
      ]
     },
     "metadata": {},
     "output_type": "display_data"
    },
    {
     "name": "stdout",
     "output_type": "stream",
     "text": [
      "\n",
      "==================================================\n",
      "\n",
      "### Smoking Levels Distribution ###\n"
     ]
    },
    {
     "name": "stderr",
     "output_type": "stream",
     "text": [
      "/var/folders/_6/y65qx_ln445314xzkc_slzmc0000gn/T/ipykernel_44398/2171195810.py:45: FutureWarning: \n",
      "\n",
      "Passing `palette` without assigning `hue` is deprecated and will be removed in v0.14.0. Assign the `x` variable to `hue` and set `legend=False` for the same effect.\n",
      "\n",
      "  sns.countplot(data=exasens_data, x='Smoking', palette=\"magma\")\n"
     ]
    },
    {
     "data": {
      "image/png": "[encoded data removed]",
      "text/plain": [
       "<Figure size 800x500 with 1 Axes>"
      ]
     },
     "metadata": {},
     "output_type": "display_data"
    }
   ],
   "source": [
    "# Step 2.3: Examine Distributions of Numerical and Categorical Variables\n",
    "\n",
    "import seaborn as sns\n",
    "import matplotlib.pyplot as plt\n",
    "\n",
    "# Configuración de estilo general para gráficos\n",
    "sns.set(style=\"whitegrid\")\n",
    "\n",
    "# 1. Distribution of 'Age'\n",
    "print(\"### Age Distribution ###\")\n",
    "plt.figure(figsize=(10, 6))\n",
    "sns.histplot(exasens_data['Age'], bins=20, kde=True, color=\"skyblue\")\n",
    "plt.title('Age Distribution')\n",
    "plt.xlabel('Age')\n",
    "plt.ylabel('Frequency')\n",
    "plt.show()\n",
    "\n",
    "print(\"\\n\" + \"=\"*50 + \"\\n\")\n",
    "\n",
    "# 2. Distribution of 'Diagnosis'\n",
    "print(\"### Diagnosis Distribution ###\")\n",
    "plt.figure(figsize=(8, 5))\n",
    "sns.countplot(data=exasens_data, x='Diagnosis', palette=\"viridis\")\n",
    "plt.title('Diagnosis Distribution')\n",
    "plt.xlabel('Diagnosis')\n",
    "plt.ylabel('Count')\n",
    "plt.show()\n",
    "\n",
    "print(\"\\n\" + \"=\"*50 + \"\\n\")\n",
    "\n",
    "# 3. Distribution of 'Gender'\n",
    "print(\"### Gender Distribution ###\")\n",
    "plt.figure(figsize=(6, 4))\n",
    "sns.countplot(data=exasens_data, x='Gender', palette=\"pastel\")\n",
    "plt.title('Gender Distribution')\n",
    "plt.xlabel('Gender (0 = Female, 1 = Male)')\n",
    "plt.ylabel('Count')\n",
    "plt.show()\n",
    "\n",
    "print(\"\\n\" + \"=\"*50 + \"\\n\")\n",
    "\n",
    "# 4. Distribution of 'Smoking'\n",
    "print(\"### Smoking Levels Distribution ###\")\n",
    "plt.figure(figsize=(8, 5))\n",
    "sns.countplot(data=exasens_data, x='Smoking', palette=\"magma\")\n",
    "plt.title('Smoking Levels Distribution')\n",
    "plt.xlabel('Smoking Level')\n",
    "plt.ylabel('Count')\n",
    "plt.show()\n"
   ]
  },
  {
   "cell_type": "markdown",
   "id": "1969fbd1-fb18-4c0a-9558-9a38879c157c",
   "metadata": {},
   "source": [
    "## Step 3: Data Cleaning\n",
    "\n",
    "### 3.1 Handling Missing Values\n",
    "We impute or drop missing values as appropriate."
   ]
  },
  {
   "cell_type": "code",
   "execution_count": 54,
   "id": "2f5df15b-3f44-4a29-94a3-56ee7f156c4b",
   "metadata": {},
   "outputs": [
    {
     "name": "stdout",
     "output_type": "stream",
     "text": [
      "Valores nulos:\n",
      " Diagnosis             0\n",
      "ID                    0\n",
      "Imagery_part_min    299\n",
      "Imagery_part_avg    299\n",
      "Real_part_min       299\n",
      "Real_part_avg       299\n",
      "Gender                0\n",
      "Age                   0\n",
      "Smoking               0\n",
      "dtype: int64\n"
     ]
    },
    {
     "ename": "TypeError",
     "evalue": "Could not convert ['COPDCOPDCOPDCOPDCOPDCOPDCOPDCOPDCOPDCOPDCOPDCOPDCOPDCOPDCOPDCOPDCOPDCOPDCOPDCOPDCOPDCOPDCOPDCOPDCOPDCOPDCOPDCOPDCOPDCOPDCOPDCOPDCOPDCOPDCOPDCOPDCOPDCOPDCOPDCOPDCOPDCOPDCOPDCOPDCOPDCOPDCOPDCOPDCOPDCOPDCOPDCOPDCOPDCOPDCOPDCOPDCOPDCOPDCOPDCOPDCOPDCOPDCOPDCOPDCOPDCOPDCOPDCOPDCOPDCOPDCOPDCOPDCOPDCOPDCOPDCOPDCOPDCOPDCOPDHCHCHCHCHCHCHCHCHCHCHCHCHCHCHCHCHCHCHCHCHCHCHCHCHCHCHCHCHCHCHCHCHCHCHCHCHCHCHCHCHCHCHCHCHCHCHCHCHCHCHCHCHCHCHCHCHCHCHCHCHCHCHCHCHCHCHCHCHCHCHCHCHCHCHCHCHCHCHCHCHCHCHCHCHCHCHCHCHCHCHCHCHCHCHCHCHCHCHCHCHCHCHCHCHCHCHCHCHCHCHCHCHCHCHCHCHCHCHCHCHCHCHCHCHCHCHCHCHCHCHCHCHCHCHCHCHCHCHCHCHCHCHCHCHCHCHCHCHCHCHCHCHCHCHCHCHCHCHCHCAsthmaAsthmaAsthmaAsthmaAsthmaAsthmaAsthmaAsthmaAsthmaAsthmaAsthmaAsthmaAsthmaAsthmaAsthmaAsthmaAsthmaAsthmaAsthmaAsthmaAsthmaAsthmaAsthmaAsthmaAsthmaAsthmaAsthmaAsthmaAsthmaAsthmaAsthmaAsthmaAsthmaAsthmaAsthmaAsthmaAsthmaAsthmaAsthmaAsthmaAsthmaAsthmaAsthmaAsthmaAsthmaAsthmaAsthmaAsthmaAsthmaAsthmaAsthmaAsthmaAsthmaAsthmaAsthmaAsthmaAsthmaAsthmaAsthmaAsthmaAsthmaAsthmaAsthmaAsthmaAsthmaAsthmaAsthmaAsthmaAsthmaAsthmaAsthmaAsthmaAsthmaAsthmaAsthmaAsthmaAsthmaAsthmaAsthmaAsthmaInfectedInfectedInfectedInfectedInfectedInfectedInfectedInfectedInfectedInfectedInfectedInfectedInfectedInfectedInfectedInfectedInfectedInfectedInfectedInfectedInfectedInfectedInfectedInfectedInfectedInfectedInfectedInfectedInfectedInfectedInfectedInfectedInfectedInfectedInfectedInfectedInfectedInfectedInfectedInfectedInfectedInfectedInfectedInfectedInfectedInfectedInfectedInfectedInfectedInfectedInfectedInfectedInfectedInfectedInfectedInfectedInfectedInfectedInfectedInfectedInfectedInfectedInfectedInfectedInfectedInfectedInfectedInfectedInfectedInfectedInfectedInfectedInfectedInfectedInfectedInfectedInfectedInfectedInfectedInfected'\n '301-4302-3303-3304-4305-4306-3307-3308309-4310-4311-4312-4313-4314-4315-4316317318-4319-4320-4321-4322-4323-4324325-4326-4327-4328-7329-4330331332-4333-4334-4335336-4337338-3339340-3341-5342-5343-5344-5345-5346-5347-5348-5349-53503513523533543553563573583593603613623633643653663673683693703713723733743753763773783791234567891011121314-515-316-51718-419-52021-32223242526-32728293031-3323334-535-436-537-438-33940-2414243-444-4454647-448495051-452-453-45455-456575859-460-461-46263-364-465-466-36768-569-47071-572-273-574-475-476-377-378-379-380-381828384858687888990919293949596979899100101102103104105106107108109110111112113114115116117118119120121122123124125126127128129130131132133134135136137138139140141142143144145146147148149150151152153154155156157158159160A201A202A203A204A205A206A207A208A209A210A211A212A213A214A215A216A217A218-1A219-4A220-3A221-4A222-2A223-4A224-2A225-4A226-3A227-4A228A229A230A231A232A233A234A235A236A237A238A239A240A241A242A243A244A245A246A247A248A249A250A251A252A253A254A255A256A257A258A259A260A261A262A263A264A265A266A267A268A269A270A271A272A273A274A275A276A277A278A279A280I101I102I103I104I105I106I107I108I109I110I111I112I113I114I115I116I117I118I119I120I121I122I123I124I125I126I127I128I129I130I131I132I133I134I135I136I137I138I139I140I141I142143-5144-5145-5146-5147-5148-5149-5150-5151-4I152I153I154I155I156157-3I158I159I160I161I162I163I164I165I166I167I168I169I170I171I172I173I174I175I176I177I178I179I180'] to numeric",
     "output_type": "error",
     "traceback": [
      "\u001b[0;31m---------------------------------------------------------------------------\u001b[0m",
      "\u001b[0;31mTypeError\u001b[0m                                 Traceback (most recent call last)",
      "Cell \u001b[0;32mIn[54], line 6\u001b[0m\n\u001b[1;32m      3\u001b[0m \u001b[38;5;28mprint\u001b[39m(\u001b[38;5;124m\"\u001b[39m\u001b[38;5;124mValores nulos:\u001b[39m\u001b[38;5;130;01m\\n\u001b[39;00m\u001b[38;5;124m\"\u001b[39m, missing_values)\n\u001b[1;32m      5\u001b[0m \u001b[38;5;66;03m# Eliminación o imputación de valores nulos\u001b[39;00m\n\u001b[0;32m----> 6\u001b[0m exasens_data\u001b[38;5;241m.\u001b[39mfillna(exasens_data\u001b[38;5;241m.\u001b[39mmean(), inplace\u001b[38;5;241m=\u001b[39m\u001b[38;5;28;01mTrue\u001b[39;00m)\n",
      "File \u001b[0;32m/Applications/anaconda3/lib/python3.12/site-packages/pandas/core/frame.py:11693\u001b[0m, in \u001b[0;36mDataFrame.mean\u001b[0;34m(self, axis, skipna, numeric_only, **kwargs)\u001b[0m\n\u001b[1;32m  11685\u001b[0m \u001b[38;5;129m@doc\u001b[39m(make_doc(\u001b[38;5;124m\"\u001b[39m\u001b[38;5;124mmean\u001b[39m\u001b[38;5;124m\"\u001b[39m, ndim\u001b[38;5;241m=\u001b[39m\u001b[38;5;241m2\u001b[39m))\n\u001b[1;32m  11686\u001b[0m \u001b[38;5;28;01mdef\u001b[39;00m \u001b[38;5;21mmean\u001b[39m(\n\u001b[1;32m  11687\u001b[0m     \u001b[38;5;28mself\u001b[39m,\n\u001b[0;32m   (...)\u001b[0m\n\u001b[1;32m  11691\u001b[0m     \u001b[38;5;241m*\u001b[39m\u001b[38;5;241m*\u001b[39mkwargs,\n\u001b[1;32m  11692\u001b[0m ):\n\u001b[0;32m> 11693\u001b[0m     result \u001b[38;5;241m=\u001b[39m \u001b[38;5;28msuper\u001b[39m()\u001b[38;5;241m.\u001b[39mmean(axis, skipna, numeric_only, \u001b[38;5;241m*\u001b[39m\u001b[38;5;241m*\u001b[39mkwargs)\n\u001b[1;32m  11694\u001b[0m     \u001b[38;5;28;01mif\u001b[39;00m \u001b[38;5;28misinstance\u001b[39m(result, Series):\n\u001b[1;32m  11695\u001b[0m         result \u001b[38;5;241m=\u001b[39m result\u001b[38;5;241m.\u001b[39m__finalize__(\u001b[38;5;28mself\u001b[39m, method\u001b[38;5;241m=\u001b[39m\u001b[38;5;124m\"\u001b[39m\u001b[38;5;124mmean\u001b[39m\u001b[38;5;124m\"\u001b[39m)\n",
      "File \u001b[0;32m/Applications/anaconda3/lib/python3.12/site-packages/pandas/core/generic.py:12420\u001b[0m, in \u001b[0;36mNDFrame.mean\u001b[0;34m(self, axis, skipna, numeric_only, **kwargs)\u001b[0m\n\u001b[1;32m  12413\u001b[0m \u001b[38;5;28;01mdef\u001b[39;00m \u001b[38;5;21mmean\u001b[39m(\n\u001b[1;32m  12414\u001b[0m     \u001b[38;5;28mself\u001b[39m,\n\u001b[1;32m  12415\u001b[0m     axis: Axis \u001b[38;5;241m|\u001b[39m \u001b[38;5;28;01mNone\u001b[39;00m \u001b[38;5;241m=\u001b[39m \u001b[38;5;241m0\u001b[39m,\n\u001b[0;32m   (...)\u001b[0m\n\u001b[1;32m  12418\u001b[0m     \u001b[38;5;241m*\u001b[39m\u001b[38;5;241m*\u001b[39mkwargs,\n\u001b[1;32m  12419\u001b[0m ) \u001b[38;5;241m-\u001b[39m\u001b[38;5;241m>\u001b[39m Series \u001b[38;5;241m|\u001b[39m \u001b[38;5;28mfloat\u001b[39m:\n\u001b[0;32m> 12420\u001b[0m     \u001b[38;5;28;01mreturn\u001b[39;00m \u001b[38;5;28mself\u001b[39m\u001b[38;5;241m.\u001b[39m_stat_function(\n\u001b[1;32m  12421\u001b[0m         \u001b[38;5;124m\"\u001b[39m\u001b[38;5;124mmean\u001b[39m\u001b[38;5;124m\"\u001b[39m, nanops\u001b[38;5;241m.\u001b[39mnanmean, axis, skipna, numeric_only, \u001b[38;5;241m*\u001b[39m\u001b[38;5;241m*\u001b[39mkwargs\n\u001b[1;32m  12422\u001b[0m     )\n",
      "File \u001b[0;32m/Applications/anaconda3/lib/python3.12/site-packages/pandas/core/generic.py:12377\u001b[0m, in \u001b[0;36mNDFrame._stat_function\u001b[0;34m(self, name, func, axis, skipna, numeric_only, **kwargs)\u001b[0m\n\u001b[1;32m  12373\u001b[0m nv\u001b[38;5;241m.\u001b[39mvalidate_func(name, (), kwargs)\n\u001b[1;32m  12375\u001b[0m validate_bool_kwarg(skipna, \u001b[38;5;124m\"\u001b[39m\u001b[38;5;124mskipna\u001b[39m\u001b[38;5;124m\"\u001b[39m, none_allowed\u001b[38;5;241m=\u001b[39m\u001b[38;5;28;01mFalse\u001b[39;00m)\n\u001b[0;32m> 12377\u001b[0m \u001b[38;5;28;01mreturn\u001b[39;00m \u001b[38;5;28mself\u001b[39m\u001b[38;5;241m.\u001b[39m_reduce(\n\u001b[1;32m  12378\u001b[0m     func, name\u001b[38;5;241m=\u001b[39mname, axis\u001b[38;5;241m=\u001b[39maxis, skipna\u001b[38;5;241m=\u001b[39mskipna, numeric_only\u001b[38;5;241m=\u001b[39mnumeric_only\n\u001b[1;32m  12379\u001b[0m )\n",
      "File \u001b[0;32m/Applications/anaconda3/lib/python3.12/site-packages/pandas/core/frame.py:11562\u001b[0m, in \u001b[0;36mDataFrame._reduce\u001b[0;34m(self, op, name, axis, skipna, numeric_only, filter_type, **kwds)\u001b[0m\n\u001b[1;32m  11558\u001b[0m     df \u001b[38;5;241m=\u001b[39m df\u001b[38;5;241m.\u001b[39mT\n\u001b[1;32m  11560\u001b[0m \u001b[38;5;66;03m# After possibly _get_data and transposing, we are now in the\u001b[39;00m\n\u001b[1;32m  11561\u001b[0m \u001b[38;5;66;03m#  simple case where we can use BlockManager.reduce\u001b[39;00m\n\u001b[0;32m> 11562\u001b[0m res \u001b[38;5;241m=\u001b[39m df\u001b[38;5;241m.\u001b[39m_mgr\u001b[38;5;241m.\u001b[39mreduce(blk_func)\n\u001b[1;32m  11563\u001b[0m out \u001b[38;5;241m=\u001b[39m df\u001b[38;5;241m.\u001b[39m_constructor_from_mgr(res, axes\u001b[38;5;241m=\u001b[39mres\u001b[38;5;241m.\u001b[39maxes)\u001b[38;5;241m.\u001b[39miloc[\u001b[38;5;241m0\u001b[39m]\n\u001b[1;32m  11564\u001b[0m \u001b[38;5;28;01mif\u001b[39;00m out_dtype \u001b[38;5;129;01mis\u001b[39;00m \u001b[38;5;129;01mnot\u001b[39;00m \u001b[38;5;28;01mNone\u001b[39;00m \u001b[38;5;129;01mand\u001b[39;00m out\u001b[38;5;241m.\u001b[39mdtype \u001b[38;5;241m!=\u001b[39m \u001b[38;5;124m\"\u001b[39m\u001b[38;5;124mboolean\u001b[39m\u001b[38;5;124m\"\u001b[39m:\n",
      "File \u001b[0;32m/Applications/anaconda3/lib/python3.12/site-packages/pandas/core/internals/managers.py:1500\u001b[0m, in \u001b[0;36mBlockManager.reduce\u001b[0;34m(self, func)\u001b[0m\n\u001b[1;32m   1498\u001b[0m res_blocks: \u001b[38;5;28mlist\u001b[39m[Block] \u001b[38;5;241m=\u001b[39m []\n\u001b[1;32m   1499\u001b[0m \u001b[38;5;28;01mfor\u001b[39;00m blk \u001b[38;5;129;01min\u001b[39;00m \u001b[38;5;28mself\u001b[39m\u001b[38;5;241m.\u001b[39mblocks:\n\u001b[0;32m-> 1500\u001b[0m     nbs \u001b[38;5;241m=\u001b[39m blk\u001b[38;5;241m.\u001b[39mreduce(func)\n\u001b[1;32m   1501\u001b[0m     res_blocks\u001b[38;5;241m.\u001b[39mextend(nbs)\n\u001b[1;32m   1503\u001b[0m index \u001b[38;5;241m=\u001b[39m Index([\u001b[38;5;28;01mNone\u001b[39;00m])  \u001b[38;5;66;03m# placeholder\u001b[39;00m\n",
      "File \u001b[0;32m/Applications/anaconda3/lib/python3.12/site-packages/pandas/core/internals/blocks.py:404\u001b[0m, in \u001b[0;36mBlock.reduce\u001b[0;34m(self, func)\u001b[0m\n\u001b[1;32m    398\u001b[0m \u001b[38;5;129m@final\u001b[39m\n\u001b[1;32m    399\u001b[0m \u001b[38;5;28;01mdef\u001b[39;00m \u001b[38;5;21mreduce\u001b[39m(\u001b[38;5;28mself\u001b[39m, func) \u001b[38;5;241m-\u001b[39m\u001b[38;5;241m>\u001b[39m \u001b[38;5;28mlist\u001b[39m[Block]:\n\u001b[1;32m    400\u001b[0m     \u001b[38;5;66;03m# We will apply the function and reshape the result into a single-row\u001b[39;00m\n\u001b[1;32m    401\u001b[0m     \u001b[38;5;66;03m#  Block with the same mgr_locs; squeezing will be done at a higher level\u001b[39;00m\n\u001b[1;32m    402\u001b[0m     \u001b[38;5;28;01massert\u001b[39;00m \u001b[38;5;28mself\u001b[39m\u001b[38;5;241m.\u001b[39mndim \u001b[38;5;241m==\u001b[39m \u001b[38;5;241m2\u001b[39m\n\u001b[0;32m--> 404\u001b[0m     result \u001b[38;5;241m=\u001b[39m func(\u001b[38;5;28mself\u001b[39m\u001b[38;5;241m.\u001b[39mvalues)\n\u001b[1;32m    406\u001b[0m     \u001b[38;5;28;01mif\u001b[39;00m \u001b[38;5;28mself\u001b[39m\u001b[38;5;241m.\u001b[39mvalues\u001b[38;5;241m.\u001b[39mndim \u001b[38;5;241m==\u001b[39m \u001b[38;5;241m1\u001b[39m:\n\u001b[1;32m    407\u001b[0m         res_values \u001b[38;5;241m=\u001b[39m result\n",
      "File \u001b[0;32m/Applications/anaconda3/lib/python3.12/site-packages/pandas/core/frame.py:11481\u001b[0m, in \u001b[0;36mDataFrame._reduce.<locals>.blk_func\u001b[0;34m(values, axis)\u001b[0m\n\u001b[1;32m  11479\u001b[0m         \u001b[38;5;28;01mreturn\u001b[39;00m np\u001b[38;5;241m.\u001b[39marray([result])\n\u001b[1;32m  11480\u001b[0m \u001b[38;5;28;01melse\u001b[39;00m:\n\u001b[0;32m> 11481\u001b[0m     \u001b[38;5;28;01mreturn\u001b[39;00m op(values, axis\u001b[38;5;241m=\u001b[39maxis, skipna\u001b[38;5;241m=\u001b[39mskipna, \u001b[38;5;241m*\u001b[39m\u001b[38;5;241m*\u001b[39mkwds)\n",
      "File \u001b[0;32m/Applications/anaconda3/lib/python3.12/site-packages/pandas/core/nanops.py:147\u001b[0m, in \u001b[0;36mbottleneck_switch.__call__.<locals>.f\u001b[0;34m(values, axis, skipna, **kwds)\u001b[0m\n\u001b[1;32m    145\u001b[0m         result \u001b[38;5;241m=\u001b[39m alt(values, axis\u001b[38;5;241m=\u001b[39maxis, skipna\u001b[38;5;241m=\u001b[39mskipna, \u001b[38;5;241m*\u001b[39m\u001b[38;5;241m*\u001b[39mkwds)\n\u001b[1;32m    146\u001b[0m \u001b[38;5;28;01melse\u001b[39;00m:\n\u001b[0;32m--> 147\u001b[0m     result \u001b[38;5;241m=\u001b[39m alt(values, axis\u001b[38;5;241m=\u001b[39maxis, skipna\u001b[38;5;241m=\u001b[39mskipna, \u001b[38;5;241m*\u001b[39m\u001b[38;5;241m*\u001b[39mkwds)\n\u001b[1;32m    149\u001b[0m \u001b[38;5;28;01mreturn\u001b[39;00m result\n",
      "File \u001b[0;32m/Applications/anaconda3/lib/python3.12/site-packages/pandas/core/nanops.py:404\u001b[0m, in \u001b[0;36m_datetimelike_compat.<locals>.new_func\u001b[0;34m(values, axis, skipna, mask, **kwargs)\u001b[0m\n\u001b[1;32m    401\u001b[0m \u001b[38;5;28;01mif\u001b[39;00m datetimelike \u001b[38;5;129;01mand\u001b[39;00m mask \u001b[38;5;129;01mis\u001b[39;00m \u001b[38;5;28;01mNone\u001b[39;00m:\n\u001b[1;32m    402\u001b[0m     mask \u001b[38;5;241m=\u001b[39m isna(values)\n\u001b[0;32m--> 404\u001b[0m result \u001b[38;5;241m=\u001b[39m func(values, axis\u001b[38;5;241m=\u001b[39maxis, skipna\u001b[38;5;241m=\u001b[39mskipna, mask\u001b[38;5;241m=\u001b[39mmask, \u001b[38;5;241m*\u001b[39m\u001b[38;5;241m*\u001b[39mkwargs)\n\u001b[1;32m    406\u001b[0m \u001b[38;5;28;01mif\u001b[39;00m datetimelike:\n\u001b[1;32m    407\u001b[0m     result \u001b[38;5;241m=\u001b[39m _wrap_results(result, orig_values\u001b[38;5;241m.\u001b[39mdtype, fill_value\u001b[38;5;241m=\u001b[39miNaT)\n",
      "File \u001b[0;32m/Applications/anaconda3/lib/python3.12/site-packages/pandas/core/nanops.py:720\u001b[0m, in \u001b[0;36mnanmean\u001b[0;34m(values, axis, skipna, mask)\u001b[0m\n\u001b[1;32m    718\u001b[0m count \u001b[38;5;241m=\u001b[39m _get_counts(values\u001b[38;5;241m.\u001b[39mshape, mask, axis, dtype\u001b[38;5;241m=\u001b[39mdtype_count)\n\u001b[1;32m    719\u001b[0m the_sum \u001b[38;5;241m=\u001b[39m values\u001b[38;5;241m.\u001b[39msum(axis, dtype\u001b[38;5;241m=\u001b[39mdtype_sum)\n\u001b[0;32m--> 720\u001b[0m the_sum \u001b[38;5;241m=\u001b[39m _ensure_numeric(the_sum)\n\u001b[1;32m    722\u001b[0m \u001b[38;5;28;01mif\u001b[39;00m axis \u001b[38;5;129;01mis\u001b[39;00m \u001b[38;5;129;01mnot\u001b[39;00m \u001b[38;5;28;01mNone\u001b[39;00m \u001b[38;5;129;01mand\u001b[39;00m \u001b[38;5;28mgetattr\u001b[39m(the_sum, \u001b[38;5;124m\"\u001b[39m\u001b[38;5;124mndim\u001b[39m\u001b[38;5;124m\"\u001b[39m, \u001b[38;5;28;01mFalse\u001b[39;00m):\n\u001b[1;32m    723\u001b[0m     count \u001b[38;5;241m=\u001b[39m cast(np\u001b[38;5;241m.\u001b[39mndarray, count)\n",
      "File \u001b[0;32m/Applications/anaconda3/lib/python3.12/site-packages/pandas/core/nanops.py:1686\u001b[0m, in \u001b[0;36m_ensure_numeric\u001b[0;34m(x)\u001b[0m\n\u001b[1;32m   1683\u001b[0m inferred \u001b[38;5;241m=\u001b[39m lib\u001b[38;5;241m.\u001b[39minfer_dtype(x)\n\u001b[1;32m   1684\u001b[0m \u001b[38;5;28;01mif\u001b[39;00m inferred \u001b[38;5;129;01min\u001b[39;00m [\u001b[38;5;124m\"\u001b[39m\u001b[38;5;124mstring\u001b[39m\u001b[38;5;124m\"\u001b[39m, \u001b[38;5;124m\"\u001b[39m\u001b[38;5;124mmixed\u001b[39m\u001b[38;5;124m\"\u001b[39m]:\n\u001b[1;32m   1685\u001b[0m     \u001b[38;5;66;03m# GH#44008, GH#36703 avoid casting e.g. strings to numeric\u001b[39;00m\n\u001b[0;32m-> 1686\u001b[0m     \u001b[38;5;28;01mraise\u001b[39;00m \u001b[38;5;167;01mTypeError\u001b[39;00m(\u001b[38;5;124mf\u001b[39m\u001b[38;5;124m\"\u001b[39m\u001b[38;5;124mCould not convert \u001b[39m\u001b[38;5;132;01m{\u001b[39;00mx\u001b[38;5;132;01m}\u001b[39;00m\u001b[38;5;124m to numeric\u001b[39m\u001b[38;5;124m\"\u001b[39m)\n\u001b[1;32m   1687\u001b[0m \u001b[38;5;28;01mtry\u001b[39;00m:\n\u001b[1;32m   1688\u001b[0m     x \u001b[38;5;241m=\u001b[39m x\u001b[38;5;241m.\u001b[39mastype(np\u001b[38;5;241m.\u001b[39mcomplex128)\n",
      "\u001b[0;31mTypeError\u001b[0m: Could not convert ['COPDCOPDCOPDCOPDCOPDCOPDCOPDCOPDCOPDCOPDCOPDCOPDCOPDCOPDCOPDCOPDCOPDCOPDCOPDCOPDCOPDCOPDCOPDCOPDCOPDCOPDCOPDCOPDCOPDCOPDCOPDCOPDCOPDCOPDCOPDCOPDCOPDCOPDCOPDCOPDCOPDCOPDCOPDCOPDCOPDCOPDCOPDCOPDCOPDCOPDCOPDCOPDCOPDCOPDCOPDCOPDCOPDCOPDCOPDCOPDCOPDCOPDCOPDCOPDCOPDCOPDCOPDCOPDCOPDCOPDCOPDCOPDCOPDCOPDCOPDCOPDCOPDCOPDCOPDHCHCHCHCHCHCHCHCHCHCHCHCHCHCHCHCHCHCHCHCHCHCHCHCHCHCHCHCHCHCHCHCHCHCHCHCHCHCHCHCHCHCHCHCHCHCHCHCHCHCHCHCHCHCHCHCHCHCHCHCHCHCHCHCHCHCHCHCHCHCHCHCHCHCHCHCHCHCHCHCHCHCHCHCHCHCHCHCHCHCHCHCHCHCHCHCHCHCHCHCHCHCHCHCHCHCHCHCHCHCHCHCHCHCHCHCHCHCHCHCHCHCHCHCHCHCHCHCHCHCHCHCHCHCHCHCHCHCHCHCHCHCHCHCHCHCHCHCHCHCHCHCHCHCHCHCHCHCHCHCAsthmaAsthmaAsthmaAsthmaAsthmaAsthmaAsthmaAsthmaAsthmaAsthmaAsthmaAsthmaAsthmaAsthmaAsthmaAsthmaAsthmaAsthmaAsthmaAsthmaAsthmaAsthmaAsthmaAsthmaAsthmaAsthmaAsthmaAsthmaAsthmaAsthmaAsthmaAsthmaAsthmaAsthmaAsthmaAsthmaAsthmaAsthmaAsthmaAsthmaAsthmaAsthmaAsthmaAsthmaAsthmaAsthmaAsthmaAsthmaAsthmaAsthmaAsthmaAsthmaAsthmaAsthmaAsthmaAsthmaAsthmaAsthmaAsthmaAsthmaAsthmaAsthmaAsthmaAsthmaAsthmaAsthmaAsthmaAsthmaAsthmaAsthmaAsthmaAsthmaAsthmaAsthmaAsthmaAsthmaAsthmaAsthmaAsthmaAsthmaInfectedInfectedInfectedInfectedInfectedInfectedInfectedInfectedInfectedInfectedInfectedInfectedInfectedInfectedInfectedInfectedInfectedInfectedInfectedInfectedInfectedInfectedInfectedInfectedInfectedInfectedInfectedInfectedInfectedInfectedInfectedInfectedInfectedInfectedInfectedInfectedInfectedInfectedInfectedInfectedInfectedInfectedInfectedInfectedInfectedInfectedInfectedInfectedInfectedInfectedInfectedInfectedInfectedInfectedInfectedInfectedInfectedInfectedInfectedInfectedInfectedInfectedInfectedInfectedInfectedInfectedInfectedInfectedInfectedInfectedInfectedInfectedInfectedInfectedInfectedInfectedInfectedInfectedInfectedInfected'\n '301-4302-3303-3304-4305-4306-3307-3308309-4310-4311-4312-4313-4314-4315-4316317318-4319-4320-4321-4322-4323-4324325-4326-4327-4328-7329-4330331332-4333-4334-4335336-4337338-3339340-3341-5342-5343-5344-5345-5346-5347-5348-5349-53503513523533543553563573583593603613623633643653663673683693703713723733743753763773783791234567891011121314-515-316-51718-419-52021-32223242526-32728293031-3323334-535-436-537-438-33940-2414243-444-4454647-448495051-452-453-45455-456575859-460-461-46263-364-465-466-36768-569-47071-572-273-574-475-476-377-378-379-380-381828384858687888990919293949596979899100101102103104105106107108109110111112113114115116117118119120121122123124125126127128129130131132133134135136137138139140141142143144145146147148149150151152153154155156157158159160A201A202A203A204A205A206A207A208A209A210A211A212A213A214A215A216A217A218-1A219-4A220-3A221-4A222-2A223-4A224-2A225-4A226-3A227-4A228A229A230A231A232A233A234A235A236A237A238A239A240A241A242A243A244A245A246A247A248A249A250A251A252A253A254A255A256A257A258A259A260A261A262A263A264A265A266A267A268A269A270A271A272A273A274A275A276A277A278A279A280I101I102I103I104I105I106I107I108I109I110I111I112I113I114I115I116I117I118I119I120I121I122I123I124I125I126I127I128I129I130I131I132I133I134I135I136I137I138I139I140I141I142143-5144-5145-5146-5147-5148-5149-5150-5151-4I152I153I154I155I156157-3I158I159I160I161I162I163I164I165I166I167I168I169I170I171I172I173I174I175I176I177I178I179I180'] to numeric"
     ]
    }
   ],
   "source": [
    "# Ver valores nulos\n",
    "missing_values = exasens_data.isnull().sum()\n",
    "print(\"Valores nulos:\\n\", missing_values)\n",
    "\n",
    "# Eliminación o imputación de valores nulos\n",
    "exasens_data.fillna(exasens_data.mean(), inplace=True)"
   ]
  },
  {
   "cell_type": "markdown",
   "id": "b6513ed9-e595-421c-8e72-07710f14ac42",
   "metadata": {},
   "source": [
    "### 3.2 Removing Duplicates\n",
    "We remove any duplicate rows to ensure that there are no repeated data."
   ]
  },
  {
   "cell_type": "code",
   "execution_count": 56,
   "id": "ecc0e8f7-6b73-4f37-a4f9-dfbef12a188e",
   "metadata": {},
   "outputs": [],
   "source": [
    "# Eliminar duplicados\n",
    "exasens_data.drop_duplicates(inplace=True)"
   ]
  },
  {
   "cell_type": "markdown",
   "id": "5b29d2ec-caae-42be-954e-e23207de5c48",
   "metadata": {},
   "source": [
    "### 3.3 Checking and Converting Data Types\n",
    "We convert categorical columns, such as `Gender` and `Smoking`, to the appropriate data types."
   ]
  },
  {
   "cell_type": "code",
   "execution_count": 58,
   "id": "0679e183-5391-4f8b-9c43-cd7be979e899",
   "metadata": {},
   "outputs": [],
   "source": [
    "# Convertir a categorías si es necesario\n",
    "exasens_data['Gender'] = exasens_data['Gender'].astype('category')\n",
    "exasens_data['Smoking'] = exasens_data['Smoking'].astype('category')"
   ]
  },
  {
   "cell_type": "markdown",
   "id": "b7f052d9-cf48-43dd-aa3d-36d01b5483b8",
   "metadata": {},
   "source": [
    "## Step 4: Confirming Data Cleaning\n",
    "We check again for any missing values or duplicates to confirm that the cleaning process was effective."
   ]
  },
  {
   "cell_type": "code",
   "execution_count": 60,
   "id": "23e955b0-3897-4b93-a318-aa37666333a0",
   "metadata": {},
   "outputs": [
    {
     "name": "stdout",
     "output_type": "stream",
     "text": [
      "Diagnosis             0\n",
      "ID                    0\n",
      "Imagery_part_min    299\n",
      "Imagery_part_avg    299\n",
      "Real_part_min       299\n",
      "Real_part_avg       299\n",
      "Gender                0\n",
      "Age                   0\n",
      "Smoking               0\n",
      "dtype: int64\n",
      "0\n",
      "<class 'pandas.core.frame.DataFrame'>\n",
      "RangeIndex: 399 entries, 0 to 398\n",
      "Data columns (total 9 columns):\n",
      " #   Column            Non-Null Count  Dtype   \n",
      "---  ------            --------------  -----   \n",
      " 0   Diagnosis         399 non-null    object  \n",
      " 1   ID                399 non-null    object  \n",
      " 2   Imagery_part_min  100 non-null    float64 \n",
      " 3   Imagery_part_avg  100 non-null    float64 \n",
      " 4   Real_part_min     100 non-null    float64 \n",
      " 5   Real_part_avg     100 non-null    float64 \n",
      " 6   Gender            399 non-null    category\n",
      " 7   Age               399 non-null    int64   \n",
      " 8   Smoking           399 non-null    category\n",
      "dtypes: category(2), float64(4), int64(1), object(2)\n",
      "memory usage: 23.0+ KB\n",
      "None\n"
     ]
    }
   ],
   "source": [
    "# Verificar nuevamente valores nulos y duplicados\n",
    "print(exasens_data.isnull().sum())\n",
    "print(exasens_data.duplicated().sum())\n",
    "print(exasens_data.info())"
   ]
  },
  {
   "cell_type": "code",
   "execution_count": null,
   "id": "19bc36c9-5bcf-4185-b56b-c0f713c6727f",
   "metadata": {},
   "outputs": [],
   "source": []
  }
 ],
 "metadata": {
  "kernelspec": {
   "display_name": "Python 3 (ipykernel)",
   "language": "python",
   "name": "python3"
  },
  "language_info": {
   "codemirror_mode": {
    "name": "ipython",
    "version": 3
   },
   "file_extension": ".py",
   "mimetype": "text/x-python",
   "name": "python",
   "nbconvert_exporter": "python",
   "pygments_lexer": "ipython3",
   "version": "3.12.7"
  }
 },
 "nbformat": 4,
 "nbformat_minor": 5
}
