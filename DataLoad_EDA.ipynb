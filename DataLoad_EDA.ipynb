{
 "cells": [
  {
   "cell_type": "markdown",
   "id": "ccc157e7-17c0-45f4-9c5f-cb4f47b250ba",
   "metadata": {},
   "source": [
    "# Exploratory Data Analysis (EDA) for the Exasens Project"
   ]
  },
  {
   "cell_type": "markdown",
   "id": "b687b74a-a7f8-4a9a-bd13-ddef3240cc27",
   "metadata": {},
   "source": [
    "## 1. Load the File in Python\n",
    "First, we load the data file `Exasens_Kaggle.csv` into a `pandas` DataFrame to start working with it."
   ]
  },
  {
   "cell_type": "code",
   "execution_count": 100,
   "id": "09848c53-b49d-4c77-91d9-17cead4f58c0",
   "metadata": {},
   "outputs": [],
   "source": [
    "import pandas as pd\n",
    "\n",
    "# Cargargamos el archivo CSV con el path que tengamos\n",
    "file_path = '/Users/pepedesintas/EDA_ExasensDataset/Exasens_Kaggle.csv'\n",
    "\n",
    "#Guardamos el contenido en una variable:\n",
    "#Función de pandas que nos mete la info del CSV en un Dataframe de la libreria pandas\n",
    "exasens_data = pd.read_csv(file_path) "
   ]
  },
  {
   "cell_type": "markdown",
   "id": "87ca9856-cec9-4484-8f67-ddebc29840b0",
   "metadata": {},
   "source": [
    "## 2. Initial Data Exploration\n",
    "\n",
    "### 2.1. Review the First Rows and Basic Structure of the Dataset\n",
    "We examine the first rows, general information, and descriptive statistics to better understand the structure of the data."
   ]
  },
  {
   "cell_type": "code",
   "execution_count": 103,
   "id": "8ac510a0-0db3-44fd-98ca-c56f80538ec1",
   "metadata": {},
   "outputs": [
    {
     "data": {
      "text/html": [
       "<div>\n",
       "<style scoped>\n",
       "    .dataframe tbody tr th:only-of-type {\n",
       "        vertical-align: middle;\n",
       "    }\n",
       "\n",
       "    .dataframe tbody tr th {\n",
       "        vertical-align: top;\n",
       "    }\n",
       "\n",
       "    .dataframe thead th {\n",
       "        text-align: right;\n",
       "    }\n",
       "</style>\n",
       "<table border=\"1\" class=\"dataframe\">\n",
       "  <thead>\n",
       "    <tr style=\"text-align: right;\">\n",
       "      <th></th>\n",
       "      <th>Diagnosis</th>\n",
       "      <th>ID</th>\n",
       "      <th>Imagery_part_min</th>\n",
       "      <th>Imagery_part_avg</th>\n",
       "      <th>Real_part_min</th>\n",
       "      <th>Real_part_avg</th>\n",
       "      <th>Gender</th>\n",
       "      <th>Age</th>\n",
       "      <th>Smoking</th>\n",
       "    </tr>\n",
       "  </thead>\n",
       "  <tbody>\n",
       "    <tr>\n",
       "      <th>0</th>\n",
       "      <td>COPD</td>\n",
       "      <td>301-4</td>\n",
       "      <td>-320.61</td>\n",
       "      <td>-300.563531</td>\n",
       "      <td>-495.26</td>\n",
       "      <td>-464.171991</td>\n",
       "      <td>1</td>\n",
       "      <td>77</td>\n",
       "      <td>2</td>\n",
       "    </tr>\n",
       "    <tr>\n",
       "      <th>1</th>\n",
       "      <td>COPD</td>\n",
       "      <td>302-3</td>\n",
       "      <td>-325.39</td>\n",
       "      <td>-314.750360</td>\n",
       "      <td>-473.73</td>\n",
       "      <td>-469.263140</td>\n",
       "      <td>0</td>\n",
       "      <td>72</td>\n",
       "      <td>2</td>\n",
       "    </tr>\n",
       "    <tr>\n",
       "      <th>2</th>\n",
       "      <td>COPD</td>\n",
       "      <td>303-3</td>\n",
       "      <td>-323.00</td>\n",
       "      <td>-317.436056</td>\n",
       "      <td>-476.12</td>\n",
       "      <td>-471.897667</td>\n",
       "      <td>1</td>\n",
       "      <td>73</td>\n",
       "      <td>3</td>\n",
       "    </tr>\n",
       "    <tr>\n",
       "      <th>3</th>\n",
       "      <td>COPD</td>\n",
       "      <td>304-4</td>\n",
       "      <td>-327.78</td>\n",
       "      <td>-317.399670</td>\n",
       "      <td>-473.73</td>\n",
       "      <td>-468.856388</td>\n",
       "      <td>1</td>\n",
       "      <td>76</td>\n",
       "      <td>2</td>\n",
       "    </tr>\n",
       "    <tr>\n",
       "      <th>4</th>\n",
       "      <td>COPD</td>\n",
       "      <td>305-4</td>\n",
       "      <td>-325.39</td>\n",
       "      <td>-316.155785</td>\n",
       "      <td>-478.52</td>\n",
       "      <td>-472.869783</td>\n",
       "      <td>0</td>\n",
       "      <td>65</td>\n",
       "      <td>2</td>\n",
       "    </tr>\n",
       "  </tbody>\n",
       "</table>\n",
       "</div>"
      ],
      "text/plain": [
       "  Diagnosis     ID  Imagery_part_min  Imagery_part_avg  Real_part_min  \\\n",
       "0      COPD  301-4           -320.61       -300.563531        -495.26   \n",
       "1      COPD  302-3           -325.39       -314.750360        -473.73   \n",
       "2      COPD  303-3           -323.00       -317.436056        -476.12   \n",
       "3      COPD  304-4           -327.78       -317.399670        -473.73   \n",
       "4      COPD  305-4           -325.39       -316.155785        -478.52   \n",
       "\n",
       "   Real_part_avg  Gender  Age  Smoking  \n",
       "0    -464.171991       1   77        2  \n",
       "1    -469.263140       0   72        2  \n",
       "2    -471.897667       1   73        3  \n",
       "3    -468.856388       1   76        2  \n",
       "4    -472.869783       0   65        2  "
      ]
     },
     "metadata": {},
     "output_type": "display_data"
    },
    {
     "name": "stdout",
     "output_type": "stream",
     "text": [
      "\n",
      "====================================================================================================\n",
      "\n",
      "<class 'pandas.core.frame.DataFrame'>\n",
      "RangeIndex: 399 entries, 0 to 398\n",
      "Data columns (total 9 columns):\n",
      " #   Column            Non-Null Count  Dtype  \n",
      "---  ------            --------------  -----  \n",
      " 0   Diagnosis         399 non-null    object \n",
      " 1   ID                399 non-null    object \n",
      " 2   Imagery_part_min  100 non-null    float64\n",
      " 3   Imagery_part_avg  100 non-null    float64\n",
      " 4   Real_part_min     100 non-null    float64\n",
      " 5   Real_part_avg     100 non-null    float64\n",
      " 6   Gender            399 non-null    int64  \n",
      " 7   Age               399 non-null    int64  \n",
      " 8   Smoking           399 non-null    int64  \n",
      "dtypes: float64(4), int64(3), object(2)\n",
      "memory usage: 28.2+ KB\n",
      "\n",
      "====================================================================================================\n",
      "\n"
     ]
    },
    {
     "data": {
      "text/html": [
       "<div>\n",
       "<style scoped>\n",
       "    .dataframe tbody tr th:only-of-type {\n",
       "        vertical-align: middle;\n",
       "    }\n",
       "\n",
       "    .dataframe tbody tr th {\n",
       "        vertical-align: top;\n",
       "    }\n",
       "\n",
       "    .dataframe thead th {\n",
       "        text-align: right;\n",
       "    }\n",
       "</style>\n",
       "<table border=\"1\" class=\"dataframe\">\n",
       "  <thead>\n",
       "    <tr style=\"text-align: right;\">\n",
       "      <th></th>\n",
       "      <th>Imagery_part_min</th>\n",
       "      <th>Imagery_part_avg</th>\n",
       "      <th>Real_part_min</th>\n",
       "      <th>Real_part_avg</th>\n",
       "      <th>Gender</th>\n",
       "      <th>Age</th>\n",
       "      <th>Smoking</th>\n",
       "    </tr>\n",
       "  </thead>\n",
       "  <tbody>\n",
       "    <tr>\n",
       "      <th>count</th>\n",
       "      <td>100.000000</td>\n",
       "      <td>100.000000</td>\n",
       "      <td>100.000000</td>\n",
       "      <td>100.000000</td>\n",
       "      <td>399.000000</td>\n",
       "      <td>399.000000</td>\n",
       "      <td>399.000000</td>\n",
       "    </tr>\n",
       "    <tr>\n",
       "      <th>mean</th>\n",
       "      <td>-314.941800</td>\n",
       "      <td>-304.779677</td>\n",
       "      <td>-473.002200</td>\n",
       "      <td>-458.701666</td>\n",
       "      <td>0.398496</td>\n",
       "      <td>48.736842</td>\n",
       "      <td>1.726817</td>\n",
       "    </tr>\n",
       "    <tr>\n",
       "      <th>std</th>\n",
       "      <td>28.422753</td>\n",
       "      <td>25.834316</td>\n",
       "      <td>49.009819</td>\n",
       "      <td>43.725345</td>\n",
       "      <td>0.490203</td>\n",
       "      <td>18.566962</td>\n",
       "      <td>0.742167</td>\n",
       "    </tr>\n",
       "    <tr>\n",
       "      <th>min</th>\n",
       "      <td>-337.350000</td>\n",
       "      <td>-328.280985</td>\n",
       "      <td>-626.860000</td>\n",
       "      <td>-473.928698</td>\n",
       "      <td>0.000000</td>\n",
       "      <td>17.000000</td>\n",
       "      <td>1.000000</td>\n",
       "    </tr>\n",
       "    <tr>\n",
       "      <th>25%</th>\n",
       "      <td>-327.780000</td>\n",
       "      <td>-318.476799</td>\n",
       "      <td>-476.120000</td>\n",
       "      <td>-470.036232</td>\n",
       "      <td>0.000000</td>\n",
       "      <td>31.000000</td>\n",
       "      <td>1.000000</td>\n",
       "    </tr>\n",
       "    <tr>\n",
       "      <th>50%</th>\n",
       "      <td>-323.000000</td>\n",
       "      <td>-314.327176</td>\n",
       "      <td>-473.730000</td>\n",
       "      <td>-467.136002</td>\n",
       "      <td>0.000000</td>\n",
       "      <td>49.000000</td>\n",
       "      <td>2.000000</td>\n",
       "    </tr>\n",
       "    <tr>\n",
       "      <th>75%</th>\n",
       "      <td>-320.610000</td>\n",
       "      <td>-305.072319</td>\n",
       "      <td>-468.950000</td>\n",
       "      <td>-462.804774</td>\n",
       "      <td>1.000000</td>\n",
       "      <td>64.000000</td>\n",
       "      <td>2.000000</td>\n",
       "    </tr>\n",
       "    <tr>\n",
       "      <th>max</th>\n",
       "      <td>-225.000000</td>\n",
       "      <td>-225.000000</td>\n",
       "      <td>-44.000000</td>\n",
       "      <td>-44.000000</td>\n",
       "      <td>1.000000</td>\n",
       "      <td>93.000000</td>\n",
       "      <td>3.000000</td>\n",
       "    </tr>\n",
       "  </tbody>\n",
       "</table>\n",
       "</div>"
      ],
      "text/plain": [
       "       Imagery_part_min  Imagery_part_avg  Real_part_min  Real_part_avg  \\\n",
       "count        100.000000        100.000000     100.000000     100.000000   \n",
       "mean        -314.941800       -304.779677    -473.002200    -458.701666   \n",
       "std           28.422753         25.834316      49.009819      43.725345   \n",
       "min         -337.350000       -328.280985    -626.860000    -473.928698   \n",
       "25%         -327.780000       -318.476799    -476.120000    -470.036232   \n",
       "50%         -323.000000       -314.327176    -473.730000    -467.136002   \n",
       "75%         -320.610000       -305.072319    -468.950000    -462.804774   \n",
       "max         -225.000000       -225.000000     -44.000000     -44.000000   \n",
       "\n",
       "           Gender         Age     Smoking  \n",
       "count  399.000000  399.000000  399.000000  \n",
       "mean     0.398496   48.736842    1.726817  \n",
       "std      0.490203   18.566962    0.742167  \n",
       "min      0.000000   17.000000    1.000000  \n",
       "25%      0.000000   31.000000    1.000000  \n",
       "50%      0.000000   49.000000    2.000000  \n",
       "75%      1.000000   64.000000    2.000000  \n",
       "max      1.000000   93.000000    3.000000  "
      ]
     },
     "metadata": {},
     "output_type": "display_data"
    }
   ],
   "source": [
    "# Display the first rows of the dataset:\n",
    "#útil para obtener una primera visión del contenido del conjunto de datos \n",
    "#incluye los nombres de las columnas y los primeros valores de cada una\n",
    "#imprime en forma de tabla los 5 primeros valores\n",
    "display(exasens_data.head()) \n",
    "print(\"\\n\" + \"=\"*100 + \"\\n\")#separador\n",
    "\n",
    "# Show general information about the dataset:\n",
    "#Detalla ino del Dataset, nº de columnas, de filas, tipo de dato de cada columna y cuantos datos tengo en cada fila\n",
    "#Tenemos enteros, floats y objetos (diagnostico = tipo enfermedad y ID)\n",
    "exasens_data.info()\n",
    "print(\"\\n\" + \"=\"*100 + \"\\n\")\n",
    "\n",
    "# Display descriptive statistics for numerical columns\n",
    "display(exasens_data.describe())"
   ]
  },
  {
   "cell_type": "markdown",
   "id": "45568b67-1345-480e-94a4-9478b6a39153",
   "metadata": {},
   "source": [
    "### 2.2. Check for Missing Values and Duplicates\n",
    "We identify if there are any missing values or duplicate rows in the dataset."
   ]
  },
  {
   "cell_type": "code",
   "execution_count": 106,
   "id": "c2068497-242b-4546-884b-590d5134a21d",
   "metadata": {},
   "outputs": [
    {
     "name": "stdout",
     "output_type": "stream",
     "text": [
      "--> Missing Values in Each Column:\n",
      "Imagery_part_min    299\n",
      "Imagery_part_avg    299\n",
      "Real_part_min       299\n",
      "Real_part_avg       299\n",
      "dtype: int64\n",
      "\n",
      "==================================================\n",
      "\n",
      "--> Number of Duplicate Rows:\n",
      "Total Duplicate Rows: 0\n"
     ]
    }
   ],
   "source": [
    "# Check for missing values\n",
    "print(\"--> Missing Values in Each Column:\")\n",
    "missing_values = exasens_data.isnull().sum()\n",
    "print(missing_values[missing_values > 0])  # Only displays columns with missing values\n",
    "#We can already see the missing values in the step 2.1, just for cheking...\n",
    "\n",
    "print(\"\\n\" + \"=\"*50 + \"\\n\")\n",
    "\n",
    "# Check for duplicate rows\n",
    "print(\"--> Number of Duplicate Rows:\")\n",
    "duplicates = exasens_data.duplicated().sum()\n",
    "print(f\"Total Duplicate Rows: {duplicates}\")\n",
    "#We also already know that all rows has at least one value, so they are not null"
   ]
  },
  {
   "cell_type": "markdown",
   "id": "bb8cc27a-935c-492d-98bc-4aad6d09b4be",
   "metadata": {},
   "source": [
    "### 2.3 Examine Distributions of Numerical and Categorical Variables\n",
    "We visualize the distribution of key variables to get an initial understanding of the data, especially for variables such as `Age` and `Diagnosis`."
   ]
  },
  {
   "cell_type": "code",
   "execution_count": 109,
   "id": "e25bf8e5-3e1d-490c-9614-142c5da8df1f",
   "metadata": {},
   "outputs": [
    {
     "data": {
      "image/png": "[encoded data removed]",
      "text/plain": [
       "<Figure size 1000x600 with 1 Axes>"
      ]
     },
     "metadata": {},
     "output_type": "display_data"
    },
    {
     "name": "stderr",
     "output_type": "stream",
     "text": [
      "/var/folders/_6/y65qx_ln445314xzkc_slzmc0000gn/T/ipykernel_1078/4137449339.py:17: FutureWarning: \n",
      "\n",
      "Passing `palette` without assigning `hue` is deprecated and will be removed in v0.14.0. Assign the `x` variable to `hue` and set `legend=False` for the same effect.\n",
      "\n",
      "  sns.countplot(data=exasens_data, x='Diagnosis', palette=\"viridis\")\n"
     ]
    },
    {
     "data": {
      "image/png": "[encoded data removed]",
      "text/plain": [
       "<Figure size 800x500 with 1 Axes>"
      ]
     },
     "metadata": {},
     "output_type": "display_data"
    },
    {
     "name": "stderr",
     "output_type": "stream",
     "text": [
      "/var/folders/_6/y65qx_ln445314xzkc_slzmc0000gn/T/ipykernel_1078/4137449339.py:25: FutureWarning: \n",
      "\n",
      "Passing `palette` without assigning `hue` is deprecated and will be removed in v0.14.0. Assign the `x` variable to `hue` and set `legend=False` for the same effect.\n",
      "\n",
      "  sns.countplot(data=exasens_data, x='Gender', palette=\"pastel\")\n"
     ]
    },
    {
     "data": {
      "image/png": "[encoded data removed]",
      "text/plain": [
       "<Figure size 600x400 with 1 Axes>"
      ]
     },
     "metadata": {},
     "output_type": "display_data"
    },
    {
     "name": "stderr",
     "output_type": "stream",
     "text": [
      "/var/folders/_6/y65qx_ln445314xzkc_slzmc0000gn/T/ipykernel_1078/4137449339.py:33: FutureWarning: \n",
      "\n",
      "Passing `palette` without assigning `hue` is deprecated and will be removed in v0.14.0. Assign the `x` variable to `hue` and set `legend=False` for the same effect.\n",
      "\n",
      "  sns.countplot(data=exasens_data, x='Smoking', palette=\"magma\")\n"
     ]
    },
    {
     "data": {
      "image/png": "[encoded data removed]",
      "text/plain": [
       "<Figure size 800x500 with 1 Axes>"
      ]
     },
     "metadata": {},
     "output_type": "display_data"
    }
   ],
   "source": [
    "import seaborn as sns\n",
    "import matplotlib.pyplot as plt\n",
    "\n",
    "# Configuración de estilo general para gráficos\n",
    "sns.set(style=\"whitegrid\")\n",
    "\n",
    "# 1. Distribution of 'Age'\n",
    "plt.figure(figsize=(10, 6))\n",
    "sns.histplot(exasens_data['Age'], bins=20, kde=True, color=\"green\")\n",
    "plt.title('Age Distribution')\n",
    "plt.xlabel('Age')\n",
    "plt.ylabel('Frequency')\n",
    "plt.show()\n",
    "\n",
    "# 2. Distribution of 'Diagnosis'\n",
    "plt.figure(figsize=(8, 5))\n",
    "sns.countplot(data=exasens_data, x='Diagnosis', palette=\"viridis\")\n",
    "plt.title('Diagnosis Distribution')\n",
    "plt.xlabel('Diagnosis')\n",
    "plt.ylabel('Count')\n",
    "plt.show()\n",
    "\n",
    "# 3. Distribution of 'Gender'\n",
    "plt.figure(figsize=(6, 4))\n",
    "sns.countplot(data=exasens_data, x='Gender', palette=\"pastel\")\n",
    "plt.title('Gender Distribution')\n",
    "plt.xlabel('Gender (0 = Female, 1 = Male)')\n",
    "plt.ylabel('Count')\n",
    "plt.show()\n",
    "\n",
    "# 4. Distribution of 'Smoking'\n",
    "plt.figure(figsize=(8, 5))\n",
    "sns.countplot(data=exasens_data, x='Smoking', palette=\"magma\")\n",
    "plt.title('Smoking Levels Distribution')\n",
    "plt.xlabel('Smoking Level')\n",
    "plt.ylabel('Count')\n",
    "plt.show()\n"
   ]
  },
  {
   "cell_type": "markdown",
   "id": "1969fbd1-fb18-4c0a-9558-9a38879c157c",
   "metadata": {},
   "source": [
    "## Step 3: Data Cleaning\n",
    "\n",
    "### 3.1 Handling Missing Values and Duplicated Values\n",
    "We impute or drop missing values as appropriate.\n",
    "We remove any duplicate rows to ensure that there are no repeated data."
   ]
  },
  {
   "cell_type": "code",
   "execution_count": 112,
   "id": "2f5df15b-3f44-4a29-94a3-56ee7f156c4b",
   "metadata": {},
   "outputs": [
    {
     "name": "stdout",
     "output_type": "stream",
     "text": [
      "All Null-Values we have:\n",
      " Diagnosis             0\n",
      "ID                    0\n",
      "Imagery_part_min    299\n",
      "Imagery_part_avg    299\n",
      "Real_part_min       299\n",
      "Real_part_avg       299\n",
      "Gender                0\n",
      "Age                   0\n",
      "Smoking               0\n",
      "dtype: int64\n",
      "\n",
      "==================================================\n",
      "\n",
      "Null-values after filling out:\n",
      " Diagnosis           0\n",
      "ID                  0\n",
      "Imagery_part_min    0\n",
      "Imagery_part_avg    0\n",
      "Real_part_min       0\n",
      "Real_part_avg       0\n",
      "Gender              0\n",
      "Age                 0\n",
      "Smoking             0\n",
      "dtype: int64\n",
      "\n",
      "==================================================\n",
      "\n",
      "Number of duplicated values:  0\n"
     ]
    }
   ],
   "source": [
    "#Ver valores nulos\n",
    "missing_values = exasens_data.isnull().sum()\n",
    "print(\"All Null-Values we have:\\n\", missing_values)\n",
    "\n",
    "#Seleccionar solo las columnas numéricas\n",
    "numerical_columns = exasens_data.select_dtypes(include=['number']).columns\n",
    "\n",
    "#Rellenar los valores nulos solo en columnas numéricas con la MEDIA\n",
    "exasens_data[numerical_columns] = exasens_data[numerical_columns].fillna(exasens_data[numerical_columns].mean())\n",
    "\n",
    "#Resultado\n",
    "missing_values_after = exasens_data.isnull().sum()\n",
    "print(\"\\n\" + \"=\"*50 + \"\\n\")\n",
    "print(\"Null-values after filling out:\\n\", missing_values_after)\n",
    "\n",
    "# Eliminar duplicados\n",
    "exasens_data.drop_duplicates(inplace=True)\n",
    "print(\"\\n\" + \"=\"*50 + \"\\n\")\n",
    "print(\"Number of duplicated values: \", exasens_data.duplicated().sum())"
   ]
  },
  {
   "cell_type": "markdown",
   "id": "5b29d2ec-caae-42be-954e-e23207de5c48",
   "metadata": {},
   "source": [
    "### 3.2 Checking and Converting Data Types\n",
    "We convert categorical columns, such as `Gender` and `Smoking`, to the appropriate data types."
   ]
  },
  {
   "cell_type": "code",
   "execution_count": 94,
   "id": "0679e183-5391-4f8b-9c43-cd7be979e899",
   "metadata": {},
   "outputs": [],
   "source": [
    "# Convertir a categorías si es necesario\n",
    "exasens_data['Gender'] = exasens_data['Gender'].astype('category')\n",
    "exasens_data['Smoking'] = exasens_data['Smoking'].astype('category')"
   ]
  },
  {
   "cell_type": "markdown",
   "id": "b7f052d9-cf48-43dd-aa3d-36d01b5483b8",
   "metadata": {},
   "source": [
    "## Step 4: Confirming Data Cleaning\n",
    "We check again for any missing values or duplicates to confirm that the cleaning process was effective."
   ]
  },
  {
   "cell_type": "code",
   "execution_count": 96,
   "id": "23e955b0-3897-4b93-a318-aa37666333a0",
   "metadata": {},
   "outputs": [
    {
     "name": "stdout",
     "output_type": "stream",
     "text": [
      "Diagnosis           0\n",
      "ID                  0\n",
      "Imagery_part_min    0\n",
      "Imagery_part_avg    0\n",
      "Real_part_min       0\n",
      "Real_part_avg       0\n",
      "Gender              0\n",
      "Age                 0\n",
      "Smoking             0\n",
      "dtype: int64\n",
      "\n",
      "==================================================\n",
      "\n",
      "Number of duplicated values:  0\n",
      "\n",
      "==================================================\n",
      "\n",
      "<class 'pandas.core.frame.DataFrame'>\n",
      "RangeIndex: 399 entries, 0 to 398\n",
      "Data columns (total 9 columns):\n",
      " #   Column            Non-Null Count  Dtype   \n",
      "---  ------            --------------  -----   \n",
      " 0   Diagnosis         399 non-null    object  \n",
      " 1   ID                399 non-null    object  \n",
      " 2   Imagery_part_min  399 non-null    float64 \n",
      " 3   Imagery_part_avg  399 non-null    float64 \n",
      " 4   Real_part_min     399 non-null    float64 \n",
      " 5   Real_part_avg     399 non-null    float64 \n",
      " 6   Gender            399 non-null    category\n",
      " 7   Age               399 non-null    int64   \n",
      " 8   Smoking           399 non-null    category\n",
      "dtypes: category(2), float64(4), int64(1), object(2)\n",
      "memory usage: 23.0+ KB\n",
      "None\n"
     ]
    }
   ],
   "source": [
    "# Verificar nuevamente valores nulos y duplicados\n",
    "print(exasens_data.isnull().sum())\n",
    "print(\"\\n\" + \"=\"*50 + \"\\n\")\n",
    "print(\"Number of duplicated values: \", exasens_data.duplicated().sum())\n",
    "print(\"\\n\" + \"=\"*50 + \"\\n\")\n",
    "print(exasens_data.info())"
   ]
  },
  {
   "cell_type": "code",
   "execution_count": null,
   "id": "885d5ac6-e93d-43ff-bd2a-25ed1752d625",
   "metadata": {},
   "outputs": [],
   "source": []
  }
 ],
 "metadata": {
  "kernelspec": {
   "display_name": "Python 3 (ipykernel)",
   "language": "python",
   "name": "python3"
  },
  "language_info": {
   "codemirror_mode": {
    "name": "ipython",
    "version": 3
   },
   "file_extension": ".py",
   "mimetype": "text/x-python",
   "name": "python",
   "nbconvert_exporter": "python",
   "pygments_lexer": "ipython3",
   "version": "3.12.7"
  }
 },
 "nbformat": 4,
 "nbformat_minor": 5
}
